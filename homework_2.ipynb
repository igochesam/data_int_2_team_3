{
 "cells": [
  {
   "cell_type": "code",
   "execution_count": 94,
   "id": "9bf0e954",
   "metadata": {},
   "outputs": [],
   "source": [
    "#from pyspark.sql.functions import udf\n",
    "from pyspark.sql.types import DoubleType\n",
    "import haversine\n",
    "from pyspark.sql import SparkSession\n",
    "from pyspark.sql.functions import *"
   ]
  },
  {
   "cell_type": "code",
   "execution_count": 103,
   "id": "3f0b5d92",
   "metadata": {
    "scrolled": false
   },
   "outputs": [],
   "source": [
    "spark_ = SparkSession.builder.appName('practice').getOrCreate()"
   ]
  },
  {
   "cell_type": "code",
   "execution_count": 104,
   "id": "54d100c2",
   "metadata": {},
   "outputs": [],
   "source": [
    "df = spark_.read.option('header', True).csv('go_bike_with_distance.csv', inferSchema=True)\n",
    "# uncal_data = spark_.read.option('header', True).csv('tripdata.csv', inferSchema=True)"
   ]
  },
  {
   "cell_type": "code",
   "execution_count": 111,
   "id": "4caf2e42",
   "metadata": {},
   "outputs": [],
   "source": [
    "#df = df.withColumnRenamed('distance', 'cal_distant')\n",
    "df = df.drop('_c0') # removing unnecceray column"
   ]
  },
  {
   "cell_type": "code",
   "execution_count": 113,
   "id": "6862c2fa",
   "metadata": {},
   "outputs": [
    {
     "name": "stdout",
     "output_type": "stream",
     "text": [
      "+----------+--------+----------------+--------------------+----------------------+-----------------------+--------------+--------------------+--------------------+---------------------+-------+---------+-----------------+-------------+-----------+-----------------+\n",
      "|start_time|end_time|start_station_id|  start_station_name|start_station_latitude|start_station_longitude|end_station_id|    end_station_name|end_station_latitude|end_station_longitude|bike_id|user_type|member_birth_year|member_gender|     pyment|Distance_in_meter|\n",
      "+----------+--------+----------------+--------------------+----------------------+-----------------------+--------------+--------------------+--------------------+---------------------+-------+---------+-----------------+-------------+-----------+-----------------+\n",
      "|   57:39.7| 12:50.2|              74|Laguna St at Haye...|           37.77643482|            -122.426244|            43|San Francisco Pub...|          37.7787677|         -122.4159292|     96| Customer|             1987|         Male|credit card|           942.93|\n",
      "|   56:34.8| 49:55.6|             284|Yerba Buena Cente...|           37.78487208|           -122.4008757|            96|Dolores St at 15t...|          37.7662102|         -122.4266136|     88| Customer|             1965|       Female|credit card|          3069.73|\n",
      "|   45:48.4| 28:36.9|             245|Downtown Berkeley...|            37.8703477|           -122.2677637|           245|Downtown Berkeley...|          37.8703477|         -122.2677637|   1094| Customer|             null|         null|credit card|              0.0|\n",
      "+----------+--------+----------------+--------------------+----------------------+-----------------------+--------------+--------------------+--------------------+---------------------+-------+---------+-----------------+-------------+-----------+-----------------+\n",
      "only showing top 3 rows\n",
      "\n"
     ]
    }
   ],
   "source": [
    "df.show(3) # view is not clear"
   ]
  },
  {
   "cell_type": "markdown",
   "id": "c6d2887d",
   "metadata": {},
   "source": [
    "tasks for this week : \n",
    "1-calculate the total distance for each bike and list the top 10\n",
    "2-calculate the number of trips for each start station list top 10 and find the ratio of using as male\n",
    "            or female\n",
    "3-make a comparison to find the percentage of usage for customer and subscriber\n",
    "4-calculate the age of all users and show the relation between the distance and the age\n",
    "team leader : moihbur \n",
    "!! siraj will send the dataset with distance column !!"
   ]
  },
  {
   "cell_type": "markdown",
   "id": "4dc7d5d1",
   "metadata": {},
   "source": [
    "### 1-calculate the total distance for each bike and list the top 10"
   ]
  },
  {
   "cell_type": "code",
   "execution_count": 115,
   "id": "b4e83f57",
   "metadata": {
    "scrolled": false
   },
   "outputs": [
    {
     "name": "stdout",
     "output_type": "stream",
     "text": [
      "-RECORD 0---------------------------------------\n",
      " start_time              | 57:39.7              \n",
      " end_time                | 12:50.2              \n",
      " start_station_id        | 74                   \n",
      " start_station_name      | Laguna St at Haye... \n",
      " start_station_latitude  | 37.77643482          \n",
      " start_station_longitude | -122.426244          \n",
      " end_station_id          | 43                   \n",
      " end_station_name        | San Francisco Pub... \n",
      " end_station_latitude    | 37.7787677           \n",
      " end_station_longitude   | -122.4159292         \n",
      " bike_id                 | 96                   \n",
      " user_type               | Customer             \n",
      " member_birth_year       | 1987                 \n",
      " member_gender           | Male                 \n",
      " pyment                  | credit card          \n",
      " Distance_in_meter       | 942.93               \n",
      "-RECORD 1---------------------------------------\n",
      " start_time              | 56:34.8              \n",
      " end_time                | 49:55.6              \n",
      " start_station_id        | 284                  \n",
      " start_station_name      | Yerba Buena Cente... \n",
      " start_station_latitude  | 37.78487208          \n",
      " start_station_longitude | -122.4008757         \n",
      " end_station_id          | 96                   \n",
      " end_station_name        | Dolores St at 15t... \n",
      " end_station_latitude    | 37.7662102           \n",
      " end_station_longitude   | -122.4266136         \n",
      " bike_id                 | 88                   \n",
      " user_type               | Customer             \n",
      " member_birth_year       | 1965                 \n",
      " member_gender           | Female               \n",
      " pyment                  | credit card          \n",
      " Distance_in_meter       | 3069.73              \n",
      "-RECORD 2---------------------------------------\n",
      " start_time              | 45:48.4              \n",
      " end_time                | 28:36.9              \n",
      " start_station_id        | 245                  \n",
      " start_station_name      | Downtown Berkeley... \n",
      " start_station_latitude  | 37.8703477           \n",
      " start_station_longitude | -122.2677637         \n",
      " end_station_id          | 245                  \n",
      " end_station_name        | Downtown Berkeley... \n",
      " end_station_latitude    | 37.8703477           \n",
      " end_station_longitude   | -122.2677637         \n",
      " bike_id                 | 1094                 \n",
      " user_type               | Customer             \n",
      " member_birth_year       | null                 \n",
      " member_gender           | null                 \n",
      " pyment                  | credit card          \n",
      " Distance_in_meter       | 0.0                  \n",
      "only showing top 3 rows\n",
      "\n"
     ]
    }
   ],
   "source": [
    "df.show(n=3,vertical=True) # make a clear view. RECORD repressnts row number"
   ]
  },
  {
   "cell_type": "code",
   "execution_count": 117,
   "id": "7df9d04e",
   "metadata": {},
   "outputs": [],
   "source": [
    "df = df.withColumnRenamed('Distance_in_meter', 'dist_meter') # simply renaming column"
   ]
  },
  {
   "cell_type": "code",
   "execution_count": 118,
   "id": "19db2713",
   "metadata": {},
   "outputs": [
    {
     "data": {
      "text/plain": [
       "3673"
      ]
     },
     "execution_count": 118,
     "metadata": {},
     "output_type": "execute_result"
    }
   ],
   "source": [
    "df.select('bike_id').distinct().count() # checking how many unique values in bike_id -> 3673"
   ]
  },
  {
   "cell_type": "code",
   "execution_count": 119,
   "id": "204f6912",
   "metadata": {},
   "outputs": [],
   "source": [
    "bike_distance = df.groupBy('bike_id').agg({'dist_meter': 'sum'}) # total distant for each bike"
   ]
  },
  {
   "cell_type": "code",
   "execution_count": 121,
   "id": "0eea2d0f",
   "metadata": {},
   "outputs": [
    {
     "name": "stdout",
     "output_type": "stream",
     "text": [
      "+-------+------------------+\n",
      "|bike_id|   sum(dist_meter)|\n",
      "+-------+------------------+\n",
      "|   2366|         249465.29|\n",
      "|   2659|         490692.41|\n",
      "|    496|         396983.32|\n",
      "|    471| 578013.0599999999|\n",
      "|   1238|167757.93999999997|\n",
      "|   1591|415585.58999999997|\n",
      "|    148|210349.24999999994|\n",
      "|   2122|         185749.79|\n",
      "|   2866|403550.13999999996|\n",
      "|   1580|226680.16999999993|\n",
      "|   1645| 328620.4600000001|\n",
      "|   1829|415100.30999999994|\n",
      "|   1342|167125.82000000004|\n",
      "|   2142|         162044.23|\n",
      "|    833|15854.170000000002|\n",
      "|    463|         108842.98|\n",
      "|   1959|219682.59999999998|\n",
      "|   1088|         523288.28|\n",
      "|   3175|         258649.06|\n",
      "|   2563|         196767.43|\n",
      "+-------+------------------+\n",
      "only showing top 20 rows\n",
      "\n"
     ]
    }
   ],
   "source": [
    "bike_distance.count() # same as before -> 3673\n",
    "\n",
    "bike_distance.show()"
   ]
  },
  {
   "cell_type": "code",
   "execution_count": 127,
   "id": "24007d79",
   "metadata": {},
   "outputs": [],
   "source": [
    "bike_distance = bike_distance.withColumnRenamed('sum(dist_meter)', 'bike_distance') # renaming column"
   ]
  },
  {
   "cell_type": "code",
   "execution_count": 128,
   "id": "99e74824",
   "metadata": {},
   "outputs": [
    {
     "name": "stdout",
     "output_type": "stream",
     "text": [
      "+-------+-----------------+\n",
      "|bike_id|    bike_distance|\n",
      "+-------+-----------------+\n",
      "|     68|743369.3899999999|\n",
      "|   2178|721182.2200000001|\n",
      "|    256|         671916.0|\n",
      "|    235|        670162.09|\n",
      "|   2049|        656828.08|\n",
      "|    441|        656642.33|\n",
      "|   2226|647823.2399999999|\n",
      "|    796|646867.8099999998|\n",
      "|    190|640294.2399999999|\n",
      "|   2365|         639412.8|\n",
      "+-------+-----------------+\n",
      "only showing top 10 rows\n",
      "\n"
     ]
    }
   ],
   "source": [
    "bike_distance.sort(desc('bike_distance')).show(n=10)  # top 10 bikers with id usinf sort function"
   ]
  },
  {
   "cell_type": "markdown",
   "id": "2f5f2c61",
   "metadata": {},
   "source": [
    "### 2-calculate the number of trips for each start station list top 10 and find the ratio of using as male or female\n",
    "#### calculate the number of trips for each start station list top 10\n",
    "#### find the ratio of using as male or female"
   ]
  },
  {
   "cell_type": "code",
   "execution_count": 164,
   "id": "73eb68a7",
   "metadata": {},
   "outputs": [],
   "source": [
    "\"\"\"\"wild card charecter (*) referes every column in dataset. In this case, * apple the count on start_station_name column.\n",
    "# simple help(df.groupBy) will show how this function works\"\"\"\n",
    "\n",
    "count_start_station = df.groupBy('start_station_name',)\\\n",
    ".agg({'*': 'count'}) # calculate the number of trips for each start station list top 10"
   ]
  },
  {
   "cell_type": "code",
   "execution_count": 165,
   "id": "8840b49f",
   "metadata": {},
   "outputs": [
    {
     "name": "stdout",
     "output_type": "stream",
     "text": [
      "+--------------------+--------+\n",
      "|  start_station_name|count(1)|\n",
      "+--------------------+--------+\n",
      "|San Francisco Fer...|   15187|\n",
      "|The Embarcadero a...|   13664|\n",
      "|San Francisco Cal...|   12546|\n",
      "|San Francisco Cal...|   12055|\n",
      "|Market St at 10th St|   11960|\n",
      "|Montgomery St BAR...|   11334|\n",
      "|  Berry St at 4th St|   10956|\n",
      "|Powell St BART St...|   10142|\n",
      "|Howard St at Beal...|    9926|\n",
      "|Steuart St at Mar...|    9347|\n",
      "+--------------------+--------+\n",
      "only showing top 10 rows\n",
      "\n"
     ]
    }
   ],
   "source": [
    "# possible to change the column name\n",
    "count_start_station.sort(desc('count(1)')).show(n=10) # list top 10"
   ]
  },
  {
   "cell_type": "code",
   "execution_count": 157,
   "id": "37de48c2",
   "metadata": {},
   "outputs": [],
   "source": [
    "ratio_gender = df.groupBy('start_station_name','member_gender' )\\\n",
    ".agg({'*': 'count'})"
   ]
  },
  {
   "cell_type": "code",
   "execution_count": 176,
   "id": "c6913ebc",
   "metadata": {
    "scrolled": false
   },
   "outputs": [
    {
     "name": "stdout",
     "output_type": "stream",
     "text": [
      "+--------------------+-------------+--------+\n",
      "|  start_station_name|member_gender|count(1)|\n",
      "+--------------------+-------------+--------+\n",
      "| George St at 1st St|         Male|     100|\n",
      "|Shattuck Ave at 5...|         Male|     251|\n",
      "| Julian St at 6th St|       Female|      25|\n",
      "|Laguna St at Haye...|         Male|    1840|\n",
      "|14th St at Filber...|         Male|      18|\n",
      "|Grand Ave at Perk...|         Male|    1736|\n",
      "|      DeFremery Park|       Female|     169|\n",
      "|14th St at Missio...|         Male|    1556|\n",
      "|Valencia St at 22...|         Male|    1397|\n",
      "| 5th St at Taylor St|         Male|      77|\n",
      "|Fruitvale Ave at ...|         Male|      50|\n",
      "|Telegraph Ave at ...|       Female|     517|\n",
      "|29th St at Tiffan...|       Female|     381|\n",
      "|Stanford Ave at H...|       Female|      39|\n",
      "|49th St at Telegr...|       Female|     239|\n",
      "|Julian St at The ...|         Male|     540|\n",
      "|Oregon St at Adel...|         Male|     167|\n",
      "| Page St at Scott St|         Male|    1774|\n",
      "|The Embarcadero a...|         Male|    1722|\n",
      "|17th St at Dolore...|         Male|     927|\n",
      "+--------------------+-------------+--------+\n",
      "only showing top 20 rows\n",
      "\n"
     ]
    }
   ],
   "source": [
    "ratio_gender.where((df.member_gender == 'Male') | (df.member_gender =='Female')).show()"
   ]
  },
  {
   "cell_type": "code",
   "execution_count": 178,
   "id": "0fb96346",
   "metadata": {},
   "outputs": [
    {
     "ename": "AssertionError",
     "evalue": "all exprs should be Column",
     "output_type": "error",
     "traceback": [
      "\u001b[1;31m---------------------------------------------------------------------------\u001b[0m",
      "\u001b[1;31mAssertionError\u001b[0m                            Traceback (most recent call last)",
      "\u001b[1;32m~\\AppData\\Local\\Temp\\ipykernel_4092\\1706246218.py\u001b[0m in \u001b[0;36m<module>\u001b[1;34m\u001b[0m\n\u001b[1;32m----> 1\u001b[1;33m \u001b[0mdf\u001b[0m\u001b[1;33m.\u001b[0m\u001b[0mgroupBy\u001b[0m\u001b[1;33m(\u001b[0m\u001b[1;34m'member_gender'\u001b[0m\u001b[1;33m)\u001b[0m\u001b[1;33m.\u001b[0m\u001b[0magg\u001b[0m\u001b[1;33m(\u001b[0m\u001b[1;33m{\u001b[0m\u001b[1;34m'start_station_name'\u001b[0m\u001b[1;33m,\u001b[0m \u001b[1;34m'sum'\u001b[0m\u001b[1;33m}\u001b[0m\u001b[1;33m)\u001b[0m\u001b[1;33m\u001b[0m\u001b[1;33m\u001b[0m\u001b[0m\n\u001b[0m",
      "\u001b[1;32mC:\\ProgramData\\Anaconda3\\lib\\site-packages\\pyspark\\sql\\group.py\u001b[0m in \u001b[0;36magg\u001b[1;34m(self, *exprs)\u001b[0m\n\u001b[0;32m    115\u001b[0m         \u001b[1;32melse\u001b[0m\u001b[1;33m:\u001b[0m\u001b[1;33m\u001b[0m\u001b[1;33m\u001b[0m\u001b[0m\n\u001b[0;32m    116\u001b[0m             \u001b[1;31m# Columns\u001b[0m\u001b[1;33m\u001b[0m\u001b[1;33m\u001b[0m\u001b[0m\n\u001b[1;32m--> 117\u001b[1;33m             \u001b[1;32massert\u001b[0m \u001b[0mall\u001b[0m\u001b[1;33m(\u001b[0m\u001b[0misinstance\u001b[0m\u001b[1;33m(\u001b[0m\u001b[0mc\u001b[0m\u001b[1;33m,\u001b[0m \u001b[0mColumn\u001b[0m\u001b[1;33m)\u001b[0m \u001b[1;32mfor\u001b[0m \u001b[0mc\u001b[0m \u001b[1;32min\u001b[0m \u001b[0mexprs\u001b[0m\u001b[1;33m)\u001b[0m\u001b[1;33m,\u001b[0m \u001b[1;34m\"all exprs should be Column\"\u001b[0m\u001b[1;33m\u001b[0m\u001b[1;33m\u001b[0m\u001b[0m\n\u001b[0m\u001b[0;32m    118\u001b[0m             jdf = self._jgd.agg(exprs[0]._jc,\n\u001b[0;32m    119\u001b[0m                                 _to_seq(self.sql_ctx._sc, [c._jc for c in exprs[1:]]))\n",
      "\u001b[1;31mAssertionError\u001b[0m: all exprs should be Column"
     ]
    }
   ],
   "source": [
    "df.groupBy('member_gender').agg({'start_station_name', 'sum'})"
   ]
  }
 ],
 "metadata": {
  "kernelspec": {
   "display_name": "Python 3 (ipykernel)",
   "language": "python",
   "name": "python3"
  },
  "language_info": {
   "codemirror_mode": {
    "name": "ipython",
    "version": 3
   },
   "file_extension": ".py",
   "mimetype": "text/x-python",
   "name": "python",
   "nbconvert_exporter": "python",
   "pygments_lexer": "ipython3",
   "version": "3.9.13"
  }
 },
 "nbformat": 4,
 "nbformat_minor": 5
}
