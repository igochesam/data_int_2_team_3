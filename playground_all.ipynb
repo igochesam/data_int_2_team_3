{
 "cells": [
  {
   "cell_type": "code",
   "execution_count": 1,
   "id": "4848a5b2",
   "metadata": {},
   "outputs": [
    {
     "name": "stderr",
     "output_type": "stream",
     "text": [
      "WARNING:root:'PYARROW_IGNORE_TIMEZONE' environment variable was not set. It is required to set this environment variable to '1' in both driver and executor sides if you use pyarrow>=2.0.0. pandas-on-Spark will set it for you but it does not work if there is a Spark context already launched.\n"
     ]
    }
   ],
   "source": [
    "#from pyspark.sql.functions import udf\n",
    "from pyspark.sql.types import DoubleType\n",
    "import haversine\n",
    "from pyspark.sql import SparkSession\n",
    "from pyspark.sql.functions import *\n",
    "\n",
    "\n",
    "# Import PySpark Pandas\n",
    "import pyspark.pandas as ps\n",
    "\n",
    "import pandas as pd\n"
   ]
  },
  {
   "cell_type": "code",
   "execution_count": 2,
   "id": "aff09ff6",
   "metadata": {
    "scrolled": false
   },
   "outputs": [
    {
     "name": "stderr",
     "output_type": "stream",
     "text": [
      "Setting default log level to \"WARN\".\n",
      "To adjust logging level use sc.setLogLevel(newLevel). For SparkR, use setLogLevel(newLevel).\n"
     ]
    },
    {
     "name": "stdout",
     "output_type": "stream",
     "text": [
      "23/02/09 15:56:13 WARN NativeCodeLoader: Unable to load native-hadoop library for your platform... using builtin-java classes where applicable\n"
     ]
    }
   ],
   "source": [
    "spark_ = SparkSession.builder.appName('practice').getOrCreate()"
   ]
  },
  {
   "cell_type": "code",
   "execution_count": 3,
   "id": "93d9c8cf",
   "metadata": {},
   "outputs": [
    {
     "name": "stderr",
     "output_type": "stream",
     "text": [
      "                                                                                \r"
     ]
    }
   ],
   "source": [
    "df = spark_.read.option('header', True).csv('go_bike_with_distance.csv', inferSchema=True)\n",
    "# uncal_data = spark_.read.option('header', True).csv('tripdata.csv', inferSchema=True)"
   ]
  },
  {
   "cell_type": "code",
   "execution_count": 4,
   "id": "928d7895",
   "metadata": {},
   "outputs": [],
   "source": [
    "#df = df.withColumnRenamed('distance', 'cal_distant')\n",
    "df = df.drop('_c0') # removing unnecceray column"
   ]
  },
  {
   "cell_type": "code",
   "execution_count": 5,
   "id": "073cb8b3",
   "metadata": {},
   "outputs": [
    {
     "name": "stdout",
     "output_type": "stream",
     "text": [
      "+----------+--------+----------------+--------------------+----------------------+-----------------------+--------------+--------------------+--------------------+---------------------+-------+---------+-----------------+-------------+-----------+-----------------+\n",
      "|start_time|end_time|start_station_id|  start_station_name|start_station_latitude|start_station_longitude|end_station_id|    end_station_name|end_station_latitude|end_station_longitude|bike_id|user_type|member_birth_year|member_gender|     pyment|Distance_in_meter|\n",
      "+----------+--------+----------------+--------------------+----------------------+-----------------------+--------------+--------------------+--------------------+---------------------+-------+---------+-----------------+-------------+-----------+-----------------+\n",
      "|   57:39.7| 12:50.2|              74|Laguna St at Haye...|           37.77643482|            -122.426244|            43|San Francisco Pub...|          37.7787677|         -122.4159292|     96| Customer|             1987|         Male|credit card|           942.93|\n",
      "|   56:34.8| 49:55.6|             284|Yerba Buena Cente...|           37.78487208|           -122.4008757|            96|Dolores St at 15t...|          37.7662102|         -122.4266136|     88| Customer|             1965|       Female|credit card|          3069.73|\n",
      "|   45:48.4| 28:36.9|             245|Downtown Berkeley...|            37.8703477|           -122.2677637|           245|Downtown Berkeley...|          37.8703477|         -122.2677637|   1094| Customer|             null|         null|credit card|              0.0|\n",
      "+----------+--------+----------------+--------------------+----------------------+-----------------------+--------------+--------------------+--------------------+---------------------+-------+---------+-----------------+-------------+-----------+-----------------+\n",
      "only showing top 3 rows\n",
      "\n"
     ]
    }
   ],
   "source": [
    "df.show(3) # view is not clear"
   ]
  },
  {
   "cell_type": "markdown",
   "id": "86f49948",
   "metadata": {},
   "source": [
    "  #### tasks for this week:\n",
    "1-calculate the total distance for each bike and list the top 10 <br>\n",
    "2-calculate the number of trips for each start station list top 10 and find the ratio of using as male or female<br>\n",
    "3-make a comparison to find the percentage of usage for customer and subscriber<br>\n",
    "4-calculate the age of all users and show the relation between the distance and the age<br>\n",
    "team leader : moihbur \n",
    "!! siraj will send the dataset with distance column !!"
   ]
  },
  {
   "cell_type": "markdown",
   "id": "bec52ffa",
   "metadata": {},
   "source": [
    "### 1-calculate the total distance for each bike and list the top 10"
   ]
  },
  {
   "cell_type": "code",
   "execution_count": 6,
   "id": "08da946f",
   "metadata": {
    "scrolled": false
   },
   "outputs": [
    {
     "name": "stdout",
     "output_type": "stream",
     "text": [
      "-RECORD 0---------------------------------------\n",
      " start_time              | 57:39.7              \n",
      " end_time                | 12:50.2              \n",
      " start_station_id        | 74                   \n",
      " start_station_name      | Laguna St at Haye... \n",
      " start_station_latitude  | 37.77643482          \n",
      " start_station_longitude | -122.426244          \n",
      " end_station_id          | 43                   \n",
      " end_station_name        | San Francisco Pub... \n",
      " end_station_latitude    | 37.7787677           \n",
      " end_station_longitude   | -122.4159292         \n",
      " bike_id                 | 96                   \n",
      " user_type               | Customer             \n",
      " member_birth_year       | 1987                 \n",
      " member_gender           | Male                 \n",
      " pyment                  | credit card          \n",
      " Distance_in_meter       | 942.93               \n",
      "-RECORD 1---------------------------------------\n",
      " start_time              | 56:34.8              \n",
      " end_time                | 49:55.6              \n",
      " start_station_id        | 284                  \n",
      " start_station_name      | Yerba Buena Cente... \n",
      " start_station_latitude  | 37.78487208          \n",
      " start_station_longitude | -122.4008757         \n",
      " end_station_id          | 96                   \n",
      " end_station_name        | Dolores St at 15t... \n",
      " end_station_latitude    | 37.7662102           \n",
      " end_station_longitude   | -122.4266136         \n",
      " bike_id                 | 88                   \n",
      " user_type               | Customer             \n",
      " member_birth_year       | 1965                 \n",
      " member_gender           | Female               \n",
      " pyment                  | credit card          \n",
      " Distance_in_meter       | 3069.73              \n",
      "-RECORD 2---------------------------------------\n",
      " start_time              | 45:48.4              \n",
      " end_time                | 28:36.9              \n",
      " start_station_id        | 245                  \n",
      " start_station_name      | Downtown Berkeley... \n",
      " start_station_latitude  | 37.8703477           \n",
      " start_station_longitude | -122.2677637         \n",
      " end_station_id          | 245                  \n",
      " end_station_name        | Downtown Berkeley... \n",
      " end_station_latitude    | 37.8703477           \n",
      " end_station_longitude   | -122.2677637         \n",
      " bike_id                 | 1094                 \n",
      " user_type               | Customer             \n",
      " member_birth_year       | null                 \n",
      " member_gender           | null                 \n",
      " pyment                  | credit card          \n",
      " Distance_in_meter       | 0.0                  \n",
      "only showing top 3 rows\n",
      "\n"
     ]
    }
   ],
   "source": [
    "df.show(n=3,vertical=True) # make a clear view. RECORD repressnts row number"
   ]
  },
  {
   "cell_type": "code",
   "execution_count": 7,
   "id": "4b7329bd",
   "metadata": {},
   "outputs": [],
   "source": [
    "df = df.withColumnRenamed('Distance_in_meter', 'dist_meter') # simply renaming column"
   ]
  },
  {
   "cell_type": "code",
   "execution_count": 8,
   "id": "df05e06a",
   "metadata": {},
   "outputs": [
    {
     "name": "stderr",
     "output_type": "stream",
     "text": [
      "                                                                                \r"
     ]
    },
    {
     "data": {
      "text/plain": [
       "3673"
      ]
     },
     "execution_count": 8,
     "metadata": {},
     "output_type": "execute_result"
    }
   ],
   "source": [
    "df.select('bike_id').distinct().count() # checking how many unique values in bike_id -> 3673"
   ]
  },
  {
   "cell_type": "code",
   "execution_count": 9,
   "id": "dcf737bb",
   "metadata": {},
   "outputs": [
    {
     "name": "stdout",
     "output_type": "stream",
     "text": [
      "+-------+------------------+\n",
      "|bike_id|       total_meter|\n",
      "+-------+------------------+\n",
      "|   2366| 249465.2900000001|\n",
      "|   2659|         490692.41|\n",
      "|    496| 396983.3199999999|\n",
      "|    471|         578013.06|\n",
      "|   1238|         167757.94|\n",
      "|   1591|         415585.59|\n",
      "|    148|210349.24999999994|\n",
      "|   2122|185749.78999999998|\n",
      "|   2866|403550.14000000013|\n",
      "|   1580|226680.16999999993|\n",
      "|   1645|328620.45999999996|\n",
      "|   1829|415100.30999999994|\n",
      "|   1342|         167125.82|\n",
      "|   2142|162044.23000000004|\n",
      "|    833|15854.170000000002|\n",
      "|    463|         108842.98|\n",
      "|   1959|          219682.6|\n",
      "|   1088|         523288.28|\n",
      "|   3175|         258649.06|\n",
      "|   2563|         196767.43|\n",
      "+-------+------------------+\n",
      "only showing top 20 rows\n",
      "\n"
     ]
    }
   ],
   "source": [
    "bike_distance = df.groupBy('bike_id').agg(sum('dist_meter').alias('total_meter')) # total distant for each bike\n",
    "bike_distance.show()"
   ]
  },
  {
   "cell_type": "code",
   "execution_count": 10,
   "id": "199f9c70",
   "metadata": {},
   "outputs": [],
   "source": [
    "#bike_distance = df.groupBy('bike_id').agg({'dist_meter':'sum'}).alias('total_meter') # alias not working with dictionary"
   ]
  },
  {
   "cell_type": "code",
   "execution_count": 11,
   "id": "c2b38b94",
   "metadata": {},
   "outputs": [
    {
     "name": "stdout",
     "output_type": "stream",
     "text": [
      "+-------+------------------+\n",
      "|bike_id|       total_meter|\n",
      "+-------+------------------+\n",
      "|   2366| 249465.2900000001|\n",
      "|   2659|         490692.41|\n",
      "|    496| 396983.3199999999|\n",
      "|    471|         578013.06|\n",
      "|   1238|         167757.94|\n",
      "|   1591|         415585.59|\n",
      "|    148|210349.24999999994|\n",
      "|   2122|185749.78999999998|\n",
      "|   2866|403550.14000000013|\n",
      "|   1580|226680.16999999993|\n",
      "|   1645|328620.45999999996|\n",
      "|   1829|415100.30999999994|\n",
      "|   1342|         167125.82|\n",
      "|   2142|162044.23000000004|\n",
      "|    833|15854.170000000002|\n",
      "|    463|         108842.98|\n",
      "|   1959|          219682.6|\n",
      "|   1088|         523288.28|\n",
      "|   3175|         258649.06|\n",
      "|   2563|         196767.43|\n",
      "+-------+------------------+\n",
      "only showing top 20 rows\n",
      "\n"
     ]
    }
   ],
   "source": [
    "bike_distance.count() # same as before -> 3673\n",
    "\n",
    "bike_distance.show()"
   ]
  },
  {
   "cell_type": "code",
   "execution_count": 12,
   "id": "04966858",
   "metadata": {},
   "outputs": [
    {
     "name": "stdout",
     "output_type": "stream",
     "text": [
      "+-------+-----------------+\n",
      "|bike_id|      total_meter|\n",
      "+-------+-----------------+\n",
      "|     68|        743369.39|\n",
      "|   2178|        721182.22|\n",
      "|    256|671915.9999999999|\n",
      "|    235|670162.0900000001|\n",
      "|   2049|        656828.08|\n",
      "|    441|656642.3300000001|\n",
      "|   2226|        647823.24|\n",
      "|    796|        646867.81|\n",
      "|    190|640294.2399999999|\n",
      "|   2365|639412.8000000003|\n",
      "+-------+-----------------+\n",
      "only showing top 10 rows\n",
      "\n"
     ]
    }
   ],
   "source": [
    "bike_distance.sort(desc('total_meter')).show(n=10)  # top 10 bikers with id using sort function"
   ]
  },
  {
   "cell_type": "markdown",
   "id": "c4c7a3ee",
   "metadata": {},
   "source": [
    "### 2-calculate the number of trips for each start station list top 10 and find the ratio of using as male or female\n",
    "#### calculate the number of trips for each start station list top 10\n",
    "#### find the ratio of using as male or female"
   ]
  },
  {
   "cell_type": "code",
   "execution_count": 13,
   "id": "3d9f1b50",
   "metadata": {},
   "outputs": [
    {
     "name": "stdout",
     "output_type": "stream",
     "text": [
      "+--------------------+-----------+\n",
      "|  start_station_name|num_station|\n",
      "+--------------------+-----------+\n",
      "|19th St at Florid...|       1569|\n",
      "|College Ave at Ha...|        733|\n",
      "|5th St at Brannan St|       2055|\n",
      "|Townsend St at 7t...|       6223|\n",
      "|Valencia St at Ce...|       1665|\n",
      "|Shattuck Ave at H...|        704|\n",
      "|San Salvador St a...|        593|\n",
      "|53rd St at Hollis St|        149|\n",
      "|  12th St at 4th Ave|        993|\n",
      "|Folsom St at 15th St|       1675|\n",
      "|Spear St at Folso...|       4798|\n",
      "|Washington St at ...|       2310|\n",
      "|49th St at Telegr...|       1223|\n",
      "|West Oakland BART...|       1162|\n",
      "|El Embarcadero at...|       3386|\n",
      "|Jackson St at 11t...|          2|\n",
      "|San Francisco Fer...|      15187|\n",
      "|The Embarcadero a...|       4269|\n",
      "|59th St at Horton St|        268|\n",
      "|Grand Ave at Perk...|       3000|\n",
      "+--------------------+-----------+\n",
      "only showing top 20 rows\n",
      "\n"
     ]
    }
   ],
   "source": [
    "\"\"\"\"wild card charecter (*) referes every column in dataset. In this case, * apple the count on start_station_name column.\n",
    "simple help(df.groupBy) will show how this function works\"\"\"\n",
    "\n",
    "# calculate the number of trips for each start station to have a list of top 10\n",
    "\n",
    "count_start_station = df.groupBy('start_station_name').agg(count('*').alias('num_station')) \n",
    "\n",
    "count_start_station.show()"
   ]
  },
  {
   "cell_type": "code",
   "execution_count": 14,
   "id": "f117abbd",
   "metadata": {},
   "outputs": [
    {
     "name": "stdout",
     "output_type": "stream",
     "text": [
      "+---------------------------------------------------------+-----------+\n",
      "|start_station_name                                       |num_station|\n",
      "+---------------------------------------------------------+-----------+\n",
      "|San Francisco Ferry Building (Harry Bridges Plaza)       |15187      |\n",
      "|The Embarcadero at Sansome St                            |13664      |\n",
      "|San Francisco Caltrain (Townsend St at 4th St)           |12546      |\n",
      "|San Francisco Caltrain Station 2  (Townsend St at 4th St)|12055      |\n",
      "|Market St at 10th St                                     |11960      |\n",
      "|Montgomery St BART Station (Market St at 2nd St)         |11334      |\n",
      "|Berry St at 4th St                                       |10956      |\n",
      "|Powell St BART Station (Market St at 4th St)             |10142      |\n",
      "|Howard St at Beale St                                    |9926       |\n",
      "|Steuart St at Market St                                  |9347       |\n",
      "+---------------------------------------------------------+-----------+\n",
      "only showing top 10 rows\n",
      "\n"
     ]
    }
   ],
   "source": [
    "# possible to change the column name\n",
    "count_start_station.sort(desc('num_station')).show(n=10, truncate=False) # list top 10"
   ]
  },
  {
   "cell_type": "code",
   "execution_count": 15,
   "id": "7562602d",
   "metadata": {},
   "outputs": [
    {
     "name": "stdout",
     "output_type": "stream",
     "text": [
      "+--------------------+-------------+----------+\n",
      "|  start_station_name|member_gender|num_people|\n",
      "+--------------------+-------------+----------+\n",
      "|Lakeshore Ave at ...|        Other|        41|\n",
      "| George St at 1st St|         Male|       100|\n",
      "|Telegraph Ave at ...|        Other|        58|\n",
      "|  Berry St at 4th St|        Other|        65|\n",
      "|Shattuck Ave at 5...|        Other|         3|\n",
      "|S. 4th St at San ...|        Other|         2|\n",
      "|Shattuck Ave at 5...|         Male|       251|\n",
      "| Julian St at 6th St|       Female|        25|\n",
      "|Laguna St at Haye...|         Male|      1840|\n",
      "|10th St at Fallon St|        Other|        62|\n",
      "|14th St at Filber...|         Male|        18|\n",
      "| Dover St at 57th St|        Other|        21|\n",
      "|College Ave at Ha...|         null|        52|\n",
      "|5th St at Brannan St|         null|       213|\n",
      "|19th St at Florid...|         null|       112|\n",
      "|Grand Ave at Perk...|         Male|      1736|\n",
      "|      DeFremery Park|       Female|       169|\n",
      "|Townsend St at 7t...|         null|       220|\n",
      "|14th St at Missio...|         Male|      1556|\n",
      "|Valencia St at 22...|         Male|      1397|\n",
      "+--------------------+-------------+----------+\n",
      "only showing top 20 rows\n",
      "\n"
     ]
    }
   ],
   "source": [
    "ratio_gender = df.groupBy('start_station_name','member_gender' )\\\n",
    ".agg(count('*').alias('num_people'))  # separting the column \n",
    "\n",
    "ratio_gender.show()"
   ]
  },
  {
   "cell_type": "code",
   "execution_count": 31,
   "id": "37c5fd01",
   "metadata": {
    "scrolled": false
   },
   "outputs": [
    {
     "name": "stdout",
     "output_type": "stream",
     "text": [
      "+-----------------------+-------------+----------+\n",
      "|start_station_name     |member_gender|num_people|\n",
      "+-----------------------+-------------+----------+\n",
      "|10th Ave at E 15th St  |Male         |104       |\n",
      "|10th Ave at E 15th St  |Female       |43        |\n",
      "|10th St at Fallon St   |Female       |424       |\n",
      "|10th St at Fallon St   |Male         |871       |\n",
      "|11th St at Bryant St   |Female       |164       |\n",
      "|11th St at Bryant St   |Male         |1370      |\n",
      "|11th St at Natoma St   |Male         |1487      |\n",
      "|11th St at Natoma St   |Female       |342       |\n",
      "|12th St at 4th Ave     |Male         |573       |\n",
      "|12th St at 4th Ave     |Female       |155       |\n",
      "|12th St at 6th Ave     |Female       |38        |\n",
      "|12th St at 6th Ave     |Male         |162       |\n",
      "|13th St at Franklin St |Female       |9         |\n",
      "|13th St at Franklin St |Male         |44        |\n",
      "|14th St at Filbert St  |Male         |18        |\n",
      "|14th St at Filbert St  |Female       |44        |\n",
      "|14th St at Mandela Pkwy|Female       |178       |\n",
      "|14th St at Mandela Pkwy|Male         |427       |\n",
      "|14th St at Mission St  |Female       |395       |\n",
      "|14th St at Mission St  |Male         |1556      |\n",
      "+-----------------------+-------------+----------+\n",
      "only showing top 20 rows\n",
      "\n"
     ]
    }
   ],
   "source": [
    "ratio_gender.where((df.member_gender == 'Male') | (df.member_gender =='Female'))\\\n",
    ".sort('start_station_name').show(truncate=False) # extarcting rows with male and female rows\n",
    "\n",
    "new_df = ratio_gender.where((df.member_gender == 'Male') | (df.member_gender =='Female'))\\\n",
    ".sort('start_station_name').toPandas()\n",
    "\n"
   ]
  },
  {
   "cell_type": "code",
   "execution_count": 45,
   "id": "5bf3bc62",
   "metadata": {},
   "outputs": [
    {
     "data": {
      "text/plain": [
       "member_gender\n",
       "Female     366.620818\n",
       "Male      1280.580882\n",
       "Name: num_people, dtype: float64"
      ]
     },
     "execution_count": 45,
     "metadata": {},
     "output_type": "execute_result"
    }
   ],
   "source": [
    "new_df.groupby('member_gender').num_people.mean()"
   ]
  },
  {
   "cell_type": "code",
   "execution_count": 86,
   "id": "fcbb4d5f",
   "metadata": {},
   "outputs": [],
   "source": [
    "#m_fe = df.where((df.member_gender == 'Male')|(df.member_gender =='Female'))\n",
    "\n",
    "# m_fe.groupBy('member_gender').count().show() #checking how many male and female are there \n",
    "\n",
    "ma_fe = df.where((df.member_gender == 'Male')|(df.member_gender =='Female')).groupBy('member_gender').count()"
   ]
  },
  {
   "cell_type": "code",
   "execution_count": 119,
   "id": "7f17b251",
   "metadata": {},
   "outputs": [
    {
     "name": "stdout",
     "output_type": "stream",
     "text": [
      "+-------------+--------+------------------+\n",
      "|member_gender|mf_count|           percent|\n",
      "+-------------+--------+------------------+\n",
      "|       Female|   98621|0.2206587476143277|\n",
      "|         Male|  348318|0.7793412523856723|\n",
      "+-------------+--------+------------------+\n",
      "\n",
      "+-------------+\n",
      "|sum(mf_count)|\n",
      "+-------------+\n",
      "|       446939|\n",
      "+-------------+\n",
      "\n"
     ]
    }
   ],
   "source": [
    "ma_fe = ma_fe.withColumnRenamed('count', 'mf_count')\n",
    "\n",
    "total_ma_fa = ma_fe.agg(sum('mf_count')).alias('total_')\n",
    "#ma_fe.withColumn('percent', col('count')\n",
    "\n",
    "ma_fe.withColumn('percent', col('mf_count') / 446939).show()\n",
    "\n",
    "total_ma_fa.show()"
   ]
  },
  {
   "cell_type": "code",
   "execution_count": 95,
   "id": "11e9bdd6",
   "metadata": {},
   "outputs": [
    {
     "name": "stdout",
     "output_type": "stream",
     "text": [
      "+-------------+------+\n",
      "|member_gender| count|\n",
      "+-------------+------+\n",
      "|       Female| 98621|\n",
      "|         Male|348318|\n",
      "+-------------+------+\n",
      "\n"
     ]
    }
   ],
   "source": [
    "ma_fe.show()"
   ]
  },
  {
   "cell_type": "markdown",
   "id": "610426c3",
   "metadata": {},
   "source": [
    "### 3-make a comparison to find the percentage of usage for customer and subscriber"
   ]
  },
  {
   "cell_type": "code",
   "execution_count": 82,
   "id": "6ff2843a",
   "metadata": {},
   "outputs": [
    {
     "name": "stdout",
     "output_type": "stream",
     "text": [
      "+----------+------+-------------------+\n",
      "| user_type| total|               perc|\n",
      "+----------+------+-------------------+\n",
      "|Subscriber|409230| 0.7874350586877045|\n",
      "|  Customer|110470|0.21256494131229556|\n",
      "+----------+------+-------------------+\n",
      "\n"
     ]
    }
   ],
   "source": [
    "percent_user = df.groupBy('user_type').agg(count('*').alias('total'))\n",
    "\n",
    "percent_user.withColumn('perc', col('total')/ df.count()).show()"
   ]
  },
  {
   "cell_type": "markdown",
   "id": "664a660f",
   "metadata": {},
   "source": [
    "## dont run \n",
    "ratio_gender.where(((df.start_station_name == 'San Francisco Ferry Building (Harry Bridges Plaza)') & \\\n",
    "                   (df.member_gender == 'Male') | (df.member_gender =='Female'))).show()\n",
    "\n",
    "df.where((df.start_station_name == 'San Francisco Ferry Building (Harry Bridges Plaza)')\\\n",
    "         & ((df.member_gender == 'Male')|(df.member_gender =='Female'))).show(n=3,vertical=True) # cheking whether previous data is right !!\n",
    "\n",
    "m_fe.groupBy('member_gender', 'start_station_name').count().show(truncate=False)"
   ]
  },
  {
   "cell_type": "code",
   "execution_count": null,
   "id": "4c0d0ecf",
   "metadata": {},
   "outputs": [],
   "source": [
    "df = df.withColumn('age_now', 2022 - col('member_birth_year')) # new frame with age \n",
    "\n",
    "df.show(n=2, vertical=True)"
   ]
  },
  {
   "cell_type": "code",
   "execution_count": null,
   "id": "101c8fa4",
   "metadata": {
    "scrolled": false
   },
   "outputs": [],
   "source": [
    "df.select('dist_meter','age_now').where(df.dist_meter >1).show()\n",
    "\n",
    "#df.where(df.dist_meter >1).show(vertical=True)"
   ]
  },
  {
   "cell_type": "markdown",
   "id": "46655d39",
   "metadata": {},
   "source": [
    "## just python"
   ]
  },
  {
   "cell_type": "code",
   "execution_count": null,
   "id": "d9be6d5f",
   "metadata": {},
   "outputs": [],
   "source": [
    "import json\n",
    "import requests as r"
   ]
  },
  {
   "cell_type": "code",
   "execution_count": null,
   "id": "15ff7f77",
   "metadata": {
    "scrolled": false
   },
   "outputs": [],
   "source": [
    "k = r.get('https://www.google.com/finance/').json\n",
    "\n",
    "json.load(k)"
   ]
  }
 ],
 "metadata": {
  "kernelspec": {
   "display_name": "Python 3 (ipykernel)",
   "language": "python",
   "name": "python3"
  },
  "language_info": {
   "codemirror_mode": {
    "name": "ipython",
    "version": 3
   },
   "file_extension": ".py",
   "mimetype": "text/x-python",
   "name": "python",
   "nbconvert_exporter": "python",
   "pygments_lexer": "ipython3",
   "version": "3.10.6"
  }
 },
 "nbformat": 4,
 "nbformat_minor": 5
}
