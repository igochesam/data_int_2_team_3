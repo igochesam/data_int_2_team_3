{
 "cells": [
  {
   "cell_type": "code",
   "execution_count": 94,
   "id": "4848a5b2",
   "metadata": {},
   "outputs": [],
   "source": [
    "#from pyspark.sql.functions import udf\n",
    "from pyspark.sql.types import DoubleType\n",
    "import haversine\n",
    "from pyspark.sql import SparkSession\n",
    "from pyspark.sql.functions import *"
   ]
  },
  {
   "cell_type": "code",
   "execution_count": 103,
   "id": "aff09ff6",
   "metadata": {
    "scrolled": false
   },
   "outputs": [],
   "source": [
    "spark_ = SparkSession.builder.appName('practice').getOrCreate()"
   ]
  },
  {
   "cell_type": "code",
   "execution_count": 104,
   "id": "93d9c8cf",
   "metadata": {},
   "outputs": [],
   "source": [
    "df = spark_.read.option('header', True).csv('go_bike_with_distance.csv', inferSchema=True)\n",
    "# uncal_data = spark_.read.option('header', True).csv('tripdata.csv', inferSchema=True)"
   ]
  },
  {
   "cell_type": "code",
   "execution_count": 111,
   "id": "928d7895",
   "metadata": {},
   "outputs": [],
   "source": [
    "#df = df.withColumnRenamed('distance', 'cal_distant')\n",
    "df = df.drop('_c0') # removing unnecceray column"
   ]
  },
  {
   "cell_type": "code",
   "execution_count": 113,
   "id": "073cb8b3",
   "metadata": {},
   "outputs": [
    {
     "name": "stdout",
     "output_type": "stream",
     "text": [
      "+----------+--------+----------------+--------------------+----------------------+-----------------------+--------------+--------------------+--------------------+---------------------+-------+---------+-----------------+-------------+-----------+-----------------+\n",
      "|start_time|end_time|start_station_id|  start_station_name|start_station_latitude|start_station_longitude|end_station_id|    end_station_name|end_station_latitude|end_station_longitude|bike_id|user_type|member_birth_year|member_gender|     pyment|Distance_in_meter|\n",
      "+----------+--------+----------------+--------------------+----------------------+-----------------------+--------------+--------------------+--------------------+---------------------+-------+---------+-----------------+-------------+-----------+-----------------+\n",
      "|   57:39.7| 12:50.2|              74|Laguna St at Haye...|           37.77643482|            -122.426244|            43|San Francisco Pub...|          37.7787677|         -122.4159292|     96| Customer|             1987|         Male|credit card|           942.93|\n",
      "|   56:34.8| 49:55.6|             284|Yerba Buena Cente...|           37.78487208|           -122.4008757|            96|Dolores St at 15t...|          37.7662102|         -122.4266136|     88| Customer|             1965|       Female|credit card|          3069.73|\n",
      "|   45:48.4| 28:36.9|             245|Downtown Berkeley...|            37.8703477|           -122.2677637|           245|Downtown Berkeley...|          37.8703477|         -122.2677637|   1094| Customer|             null|         null|credit card|              0.0|\n",
      "+----------+--------+----------------+--------------------+----------------------+-----------------------+--------------+--------------------+--------------------+---------------------+-------+---------+-----------------+-------------+-----------+-----------------+\n",
      "only showing top 3 rows\n",
      "\n"
     ]
    }
   ],
   "source": [
    "df.show(3) # view is not clear"
   ]
  },
  {
   "cell_type": "markdown",
   "id": "86f49948",
   "metadata": {},
   "source": [
    "tasks for this week : \n",
    "1-calculate the total distance for each bike and list the top 10\n",
    "2-calculate the number of trips for each start station list top 10 and find the ratio of using as male\n",
    "            or female\n",
    "3-make a comparison to find the percentage of usage for customer and subscriber\n",
    "4-calculate the age of all users and show the relation between the distance and the age\n",
    "team leader : moihbur \n",
    "!! siraj will send the dataset with distance column !!"
   ]
  },
  {
   "cell_type": "markdown",
   "id": "bec52ffa",
   "metadata": {},
   "source": [
    "### 1-calculate the total distance for each bike and list the top 10"
   ]
  },
  {
   "cell_type": "code",
   "execution_count": 115,
   "id": "08da946f",
   "metadata": {
    "scrolled": false
   },
   "outputs": [
    {
     "name": "stdout",
     "output_type": "stream",
     "text": [
      "-RECORD 0---------------------------------------\n",
      " start_time              | 57:39.7              \n",
      " end_time                | 12:50.2              \n",
      " start_station_id        | 74                   \n",
      " start_station_name      | Laguna St at Haye... \n",
      " start_station_latitude  | 37.77643482          \n",
      " start_station_longitude | -122.426244          \n",
      " end_station_id          | 43                   \n",
      " end_station_name        | San Francisco Pub... \n",
      " end_station_latitude    | 37.7787677           \n",
      " end_station_longitude   | -122.4159292         \n",
      " bike_id                 | 96                   \n",
      " user_type               | Customer             \n",
      " member_birth_year       | 1987                 \n",
      " member_gender           | Male                 \n",
      " pyment                  | credit card          \n",
      " Distance_in_meter       | 942.93               \n",
      "-RECORD 1---------------------------------------\n",
      " start_time              | 56:34.8              \n",
      " end_time                | 49:55.6              \n",
      " start_station_id        | 284                  \n",
      " start_station_name      | Yerba Buena Cente... \n",
      " start_station_latitude  | 37.78487208          \n",
      " start_station_longitude | -122.4008757         \n",
      " end_station_id          | 96                   \n",
      " end_station_name        | Dolores St at 15t... \n",
      " end_station_latitude    | 37.7662102           \n",
      " end_station_longitude   | -122.4266136         \n",
      " bike_id                 | 88                   \n",
      " user_type               | Customer             \n",
      " member_birth_year       | 1965                 \n",
      " member_gender           | Female               \n",
      " pyment                  | credit card          \n",
      " Distance_in_meter       | 3069.73              \n",
      "-RECORD 2---------------------------------------\n",
      " start_time              | 45:48.4              \n",
      " end_time                | 28:36.9              \n",
      " start_station_id        | 245                  \n",
      " start_station_name      | Downtown Berkeley... \n",
      " start_station_latitude  | 37.8703477           \n",
      " start_station_longitude | -122.2677637         \n",
      " end_station_id          | 245                  \n",
      " end_station_name        | Downtown Berkeley... \n",
      " end_station_latitude    | 37.8703477           \n",
      " end_station_longitude   | -122.2677637         \n",
      " bike_id                 | 1094                 \n",
      " user_type               | Customer             \n",
      " member_birth_year       | null                 \n",
      " member_gender           | null                 \n",
      " pyment                  | credit card          \n",
      " Distance_in_meter       | 0.0                  \n",
      "only showing top 3 rows\n",
      "\n"
     ]
    }
   ],
   "source": [
    "df.show(n=3,vertical=True) # make a clear view. RECORD repressnts row number"
   ]
  },
  {
   "cell_type": "code",
   "execution_count": 117,
   "id": "4b7329bd",
   "metadata": {},
   "outputs": [],
   "source": [
    "df = df.withColumnRenamed('Distance_in_meter', 'dist_meter') # simply renaming column"
   ]
  },
  {
   "cell_type": "code",
   "execution_count": 118,
   "id": "df05e06a",
   "metadata": {},
   "outputs": [
    {
     "data": {
      "text/plain": [
       "3673"
      ]
     },
     "execution_count": 118,
     "metadata": {},
     "output_type": "execute_result"
    }
   ],
   "source": [
    "df.select('bike_id').distinct().count() # checking how many unique values in bike_id -> 3673"
   ]
  },
  {
   "cell_type": "code",
   "execution_count": 119,
   "id": "dcf737bb",
   "metadata": {},
   "outputs": [],
   "source": [
    "bike_distance = df.groupBy('bike_id').agg({'dist_meter': 'sum'}) # total distant for each bike"
   ]
  },
  {
   "cell_type": "code",
   "execution_count": 121,
   "id": "c2b38b94",
   "metadata": {},
   "outputs": [
    {
     "name": "stdout",
     "output_type": "stream",
     "text": [
      "+-------+------------------+\n",
      "|bike_id|   sum(dist_meter)|\n",
      "+-------+------------------+\n",
      "|   2366|         249465.29|\n",
      "|   2659|         490692.41|\n",
      "|    496|         396983.32|\n",
      "|    471| 578013.0599999999|\n",
      "|   1238|167757.93999999997|\n",
      "|   1591|415585.58999999997|\n",
      "|    148|210349.24999999994|\n",
      "|   2122|         185749.79|\n",
      "|   2866|403550.13999999996|\n",
      "|   1580|226680.16999999993|\n",
      "|   1645| 328620.4600000001|\n",
      "|   1829|415100.30999999994|\n",
      "|   1342|167125.82000000004|\n",
      "|   2142|         162044.23|\n",
      "|    833|15854.170000000002|\n",
      "|    463|         108842.98|\n",
      "|   1959|219682.59999999998|\n",
      "|   1088|         523288.28|\n",
      "|   3175|         258649.06|\n",
      "|   2563|         196767.43|\n",
      "+-------+------------------+\n",
      "only showing top 20 rows\n",
      "\n"
     ]
    }
   ],
   "source": [
    "bike_distance.count() # same as before -> 3673\n",
    "\n",
    "bike_distance.show()"
   ]
  },
  {
   "cell_type": "code",
   "execution_count": 127,
   "id": "9515f541",
   "metadata": {},
   "outputs": [],
   "source": [
    "bike_distance = bike_distance.withColumnRenamed('sum(dist_meter)', 'bike_distance') # renaming column"
   ]
  },
  {
   "cell_type": "code",
   "execution_count": 128,
   "id": "04966858",
   "metadata": {},
   "outputs": [
    {
     "name": "stdout",
     "output_type": "stream",
     "text": [
      "+-------+-----------------+\n",
      "|bike_id|    bike_distance|\n",
      "+-------+-----------------+\n",
      "|     68|743369.3899999999|\n",
      "|   2178|721182.2200000001|\n",
      "|    256|         671916.0|\n",
      "|    235|        670162.09|\n",
      "|   2049|        656828.08|\n",
      "|    441|        656642.33|\n",
      "|   2226|647823.2399999999|\n",
      "|    796|646867.8099999998|\n",
      "|    190|640294.2399999999|\n",
      "|   2365|         639412.8|\n",
      "+-------+-----------------+\n",
      "only showing top 10 rows\n",
      "\n"
     ]
    }
   ],
   "source": [
    "bike_distance.sort(desc('bike_distance')).show(n=10)  # top 10 bikers with id usinf sort function"
   ]
  },
  {
   "cell_type": "markdown",
   "id": "c4c7a3ee",
   "metadata": {},
   "source": [
    "### 2-calculate the number of trips for each start station list top 10 and find the ratio of using as male or female\n",
    "#### calculate the number of trips for each start station list top 10\n",
    "#### find the ratio of using as male or female"
   ]
  },
  {
   "cell_type": "code",
   "execution_count": 164,
   "id": "3d9f1b50",
   "metadata": {},
   "outputs": [],
   "source": [
    "\"\"\"\"wild card charecter (*) referes every column in dataset. In this case, * apple the count on start_station_name column.\n",
    "# simple help(df.groupBy) will show how this function works\"\"\"\n",
    "\n",
    "count_start_station = df.groupBy('start_station_name',)\\\n",
    ".agg({'*': 'count'}) # calculate the number of trips for each start station list top 10"
   ]
  },
  {
   "cell_type": "code",
   "execution_count": 165,
   "id": "c960a03d",
   "metadata": {},
   "outputs": [
    {
     "name": "stdout",
     "output_type": "stream",
     "text": [
      "+--------------------+--------+\n",
      "|  start_station_name|count(1)|\n",
      "+--------------------+--------+\n",
      "|San Francisco Fer...|   15187|\n",
      "|The Embarcadero a...|   13664|\n",
      "|San Francisco Cal...|   12546|\n",
      "|San Francisco Cal...|   12055|\n",
      "|Market St at 10th St|   11960|\n",
      "|Montgomery St BAR...|   11334|\n",
      "|  Berry St at 4th St|   10956|\n",
      "|Powell St BART St...|   10142|\n",
      "|Howard St at Beal...|    9926|\n",
      "|Steuart St at Mar...|    9347|\n",
      "+--------------------+--------+\n",
      "only showing top 10 rows\n",
      "\n"
     ]
    }
   ],
   "source": [
    "# possible to change the column name\n",
    "count_start_station.sort(desc('count(1)')).show(n=10) # list top 10"
   ]
  },
  {
   "cell_type": "code",
   "execution_count": 157,
   "id": "7562602d",
   "metadata": {},
   "outputs": [],
   "source": [
    "ratio_gender = df.groupBy('start_station_name','member_gender' )\\\n",
    ".agg({'*': 'count'})"
   ]
  },
  {
   "cell_type": "code",
   "execution_count": 176,
   "id": "37c5fd01",
   "metadata": {
    "scrolled": false
   },
   "outputs": [
    {
     "name": "stdout",
     "output_type": "stream",
     "text": [
      "+--------------------+-------------+--------+\n",
      "|  start_station_name|member_gender|count(1)|\n",
      "+--------------------+-------------+--------+\n",
      "| George St at 1st St|         Male|     100|\n",
      "|Shattuck Ave at 5...|         Male|     251|\n",
      "| Julian St at 6th St|       Female|      25|\n",
      "|Laguna St at Haye...|         Male|    1840|\n",
      "|14th St at Filber...|         Male|      18|\n",
      "|Grand Ave at Perk...|         Male|    1736|\n",
      "|      DeFremery Park|       Female|     169|\n",
      "|14th St at Missio...|         Male|    1556|\n",
      "|Valencia St at 22...|         Male|    1397|\n",
      "| 5th St at Taylor St|         Male|      77|\n",
      "|Fruitvale Ave at ...|         Male|      50|\n",
      "|Telegraph Ave at ...|       Female|     517|\n",
      "|29th St at Tiffan...|       Female|     381|\n",
      "|Stanford Ave at H...|       Female|      39|\n",
      "|49th St at Telegr...|       Female|     239|\n",
      "|Julian St at The ...|         Male|     540|\n",
      "|Oregon St at Adel...|         Male|     167|\n",
      "| Page St at Scott St|         Male|    1774|\n",
      "|The Embarcadero a...|         Male|    1722|\n",
      "|17th St at Dolore...|         Male|     927|\n",
      "+--------------------+-------------+--------+\n",
      "only showing top 20 rows\n",
      "\n"
     ]
    }
   ],
   "source": [
    "ratio_gender.where((df.member_gender == 'Male') | (df.member_gender =='Female')).show()"
   ]
  },
  {
   "cell_type": "code",
   "execution_count": 194,
   "id": "e04eed75",
   "metadata": {},
   "outputs": [
    {
     "name": "stdout",
     "output_type": "stream",
     "text": [
      "+--------------------+-------------+--------+\n",
      "|  start_station_name|member_gender|count(1)|\n",
      "+--------------------+-------------+--------+\n",
      "| Julian St at 6th St|       Female|      25|\n",
      "|      DeFremery Park|       Female|     169|\n",
      "|Telegraph Ave at ...|       Female|     517|\n",
      "|29th St at Tiffan...|       Female|     381|\n",
      "|Stanford Ave at H...|       Female|      39|\n",
      "|49th St at Telegr...|       Female|     239|\n",
      "|Marston Campbell ...|       Female|      16|\n",
      "|Telegraph Ave at ...|       Female|      68|\n",
      "|34th St at Telegr...|       Female|      76|\n",
      "|16th St at Prospe...|       Female|     230|\n",
      "|MacArthur BART St...|       Female|     913|\n",
      "|Adeline St at 40t...|       Female|     158|\n",
      "|Parker St at Fult...|       Female|      57|\n",
      "|    San Antonio Park|       Female|     109|\n",
      "|9th St at San Fer...|       Female|      76|\n",
      "|Washington St at ...|       Female|     351|\n",
      "|14th St at Mandel...|       Female|     178|\n",
      "|     Bestor Art Park|       Female|       5|\n",
      "|Telegraph Ave at ...|       Female|     135|\n",
      "|Valencia St at 16...|       Female|     691|\n",
      "+--------------------+-------------+--------+\n",
      "only showing top 20 rows\n",
      "\n"
     ]
    }
   ],
   "source": [
    "ratio_gender.where(((df.start_station_name == 'San Francisco Ferry Building (Harry Bridges Plaza)') & \\\n",
    "                   (df.member_gender == 'Male') | (df.member_gender =='Female'))).show()"
   ]
  },
  {
   "cell_type": "code",
   "execution_count": 246,
   "id": "60d35a11",
   "metadata": {},
   "outputs": [],
   "source": [
    "#count_start_station.sort(desc('count(1)').alias('num_time')).show()\n"
   ]
  },
  {
   "cell_type": "code",
   "execution_count": 242,
   "id": "a4a60a53",
   "metadata": {},
   "outputs": [
    {
     "name": "stdout",
     "output_type": "stream",
     "text": [
      "-RECORD 0---------------------------------------\n",
      " start_time              | 25:37.9              \n",
      " end_time                | 39:12.2              \n",
      " start_station_id        | 15                   \n",
      " start_station_name      | San Francisco Fer... \n",
      " start_station_latitude  | 37.795392            \n",
      " start_station_longitude | -122.394203          \n",
      " end_station_id          | 90                   \n",
      " end_station_name        | Townsend St at 7t... \n",
      " end_station_latitude    | 37.771058            \n",
      " end_station_longitude   | -122.402717          \n",
      " bike_id                 | 1518                 \n",
      " user_type               | Subscriber           \n",
      " member_birth_year       | 1982                 \n",
      " member_gender           | Male                 \n",
      " pyment                  | credit card          \n",
      " dist_meter              | 2807.37              \n",
      "-RECORD 1---------------------------------------\n",
      " start_time              | 15:08.7              \n",
      " end_time                | 28:23.4              \n",
      " start_station_id        | 15                   \n",
      " start_station_name      | San Francisco Fer... \n",
      " start_station_latitude  | 37.795392            \n",
      " start_station_longitude | -122.394203          \n",
      " end_station_id          | 6                    \n",
      " end_station_name        | The Embarcadero a... \n",
      " end_station_latitude    | 37.80477             \n",
      " end_station_longitude   | -122.403234          \n",
      " bike_id                 | 3047                 \n",
      " user_type               | Customer             \n",
      " member_birth_year       | 1994                 \n",
      " member_gender           | Male                 \n",
      " pyment                  | app wallet           \n",
      " dist_meter              | 1310.35              \n",
      "-RECORD 2---------------------------------------\n",
      " start_time              | 00:43.1              \n",
      " end_time                | 15:47.8              \n",
      " start_station_id        | 15                   \n",
      " start_station_name      | San Francisco Fer... \n",
      " start_station_latitude  | 37.795392            \n",
      " start_station_longitude | -122.394203          \n",
      " end_station_id          | 66                   \n",
      " end_station_name        | 3rd St at Townsen... \n",
      " end_station_latitude    | 37.77874161          \n",
      " end_station_longitude   | -122.3927408         \n",
      " bike_id                 | 2328                 \n",
      " user_type               | Subscriber           \n",
      " member_birth_year       | 1986                 \n",
      " member_gender           | Male                 \n",
      " pyment                  | app wallet           \n",
      " dist_meter              | 1855.89              \n",
      "-RECORD 3---------------------------------------\n",
      " start_time              | 59:04.5              \n",
      " end_time                | 13:04.4              \n",
      " start_station_id        | 15                   \n",
      " start_station_name      | San Francisco Fer... \n",
      " start_station_latitude  | 37.795392            \n",
      " start_station_longitude | -122.394203          \n",
      " end_station_id          | 4                    \n",
      " end_station_name        | Cyril Magnin St a... \n",
      " end_station_latitude    | 37.78588063          \n",
      " end_station_longitude   | -122.408915          \n",
      " bike_id                 | 365                  \n",
      " user_type               | Customer             \n",
      " member_birth_year       | 1994                 \n",
      " member_gender           | Female               \n",
      " pyment                  | credit card          \n",
      " dist_meter              | 1670.28              \n",
      "-RECORD 4---------------------------------------\n",
      " start_time              | 59:00.4              \n",
      " end_time                | 12:29.0              \n",
      " start_station_id        | 15                   \n",
      " start_station_name      | San Francisco Fer... \n",
      " start_station_latitude  | 37.795392            \n",
      " start_station_longitude | -122.394203          \n",
      " end_station_id          | 4                    \n",
      " end_station_name        | Cyril Magnin St a... \n",
      " end_station_latitude    | 37.78588063          \n",
      " end_station_longitude   | -122.408915          \n",
      " bike_id                 | 2848                 \n",
      " user_type               | Customer             \n",
      " member_birth_year       | 1991                 \n",
      " member_gender           | Male                 \n",
      " pyment                  | app wallet           \n",
      " dist_meter              | 1670.28              \n",
      "-RECORD 5---------------------------------------\n",
      " start_time              | 33:54.6              \n",
      " end_time                | 44:16.9              \n",
      " start_station_id        | 15                   \n",
      " start_station_name      | San Francisco Fer... \n",
      " start_station_latitude  | 37.795392            \n",
      " start_station_longitude | -122.394203          \n",
      " end_station_id          | 66                   \n",
      " end_station_name        | 3rd St at Townsen... \n",
      " end_station_latitude    | 37.77874161          \n",
      " end_station_longitude   | -122.3927408         \n",
      " bike_id                 | 3344                 \n",
      " user_type               | Subscriber           \n",
      " member_birth_year       | 1975                 \n",
      " member_gender           | Male                 \n",
      " pyment                  | app wallet           \n",
      " dist_meter              | 1855.89              \n",
      "-RECORD 6---------------------------------------\n",
      " start_time              | 22:59.5              \n",
      " end_time                | 40:15.8              \n",
      " start_station_id        | 15                   \n",
      " start_station_name      | San Francisco Fer... \n",
      " start_station_latitude  | 37.795392            \n",
      " start_station_longitude | -122.394203          \n",
      " end_station_id          | 130                  \n",
      " end_station_name        | 22nd St Caltrain ... \n",
      " end_station_latitude    | 37.75736899          \n",
      " end_station_longitude   | -122.3920566         \n",
      " bike_id                 | 649                  \n",
      " user_type               | Subscriber           \n",
      " member_birth_year       | 1960                 \n",
      " member_gender           | Male                 \n",
      " pyment                  | app wallet           \n",
      " dist_meter              | 4232.18              \n",
      "-RECORD 7---------------------------------------\n",
      " start_time              | 25:23.4              \n",
      " end_time                | 31:51.1              \n",
      " start_station_id        | 15                   \n",
      " start_station_name      | San Francisco Fer... \n",
      " start_station_latitude  | 37.795392            \n",
      " start_station_longitude | -122.394203          \n",
      " end_station_id          | 14                   \n",
      " end_station_name        | Clay St at Batter... \n",
      " end_station_latitude    | 37.795001            \n",
      " end_station_longitude   | -122.39997           \n",
      " bike_id                 | 1122                 \n",
      " user_type               | Subscriber           \n",
      " member_birth_year       | 1965                 \n",
      " member_gender           | Male                 \n",
      " pyment                  | credit card          \n",
      " dist_meter              | 508.59               \n",
      "-RECORD 8---------------------------------------\n",
      " start_time              | 28:52.5              \n",
      " end_time                | 35:14.5              \n",
      " start_station_id        | 15                   \n",
      " start_station_name      | San Francisco Fer... \n",
      " start_station_latitude  | 37.795392            \n",
      " start_station_longitude | -122.394203          \n",
      " end_station_id          | 6                    \n",
      " end_station_name        | The Embarcadero a... \n",
      " end_station_latitude    | 37.80477             \n",
      " end_station_longitude   | -122.403234          \n",
      " bike_id                 | 2629                 \n",
      " user_type               | Subscriber           \n",
      " member_birth_year       | 1982                 \n",
      " member_gender           | Female               \n",
      " pyment                  | credit card          \n",
      " dist_meter              | 1310.35              \n",
      "-RECORD 9---------------------------------------\n",
      " start_time              | 28:01.8              \n",
      " end_time                | 35:01.6              \n",
      " start_station_id        | 15                   \n",
      " start_station_name      | San Francisco Fer... \n",
      " start_station_latitude  | 37.795392            \n",
      " start_station_longitude | -122.394203          \n",
      " end_station_id          | 6                    \n",
      " end_station_name        | The Embarcadero a... \n",
      " end_station_latitude    | 37.80477             \n",
      " end_station_longitude   | -122.403234          \n",
      " bike_id                 | 2813                 \n",
      " user_type               | Subscriber           \n",
      " member_birth_year       | 1982                 \n",
      " member_gender           | Male                 \n",
      " pyment                  | credit card          \n",
      " dist_meter              | 1310.35              \n",
      "-RECORD 10--------------------------------------\n",
      " start_time              | 37:17.4              \n",
      " end_time                | 48:17.2              \n",
      " start_station_id        | 15                   \n",
      " start_station_name      | San Francisco Fer... \n",
      " start_station_latitude  | 37.795392            \n",
      " start_station_longitude | -122.394203          \n",
      " end_station_id          | 81                   \n",
      " end_station_name        | Berry St at 4th St   \n",
      " end_station_latitude    | 37.77588             \n",
      " end_station_longitude   | -122.39317           \n",
      " bike_id                 | 3033                 \n",
      " user_type               | Subscriber           \n",
      " member_birth_year       | 1961                 \n",
      " member_gender           | Female               \n",
      " pyment                  | credit card          \n",
      " dist_meter              | 2171.54              \n",
      "-RECORD 11--------------------------------------\n",
      " start_time              | 31:47.1              \n",
      " end_time                | 50:24.8              \n",
      " start_station_id        | 15                   \n",
      " start_station_name      | San Francisco Fer... \n",
      " start_station_latitude  | 37.795392            \n",
      " start_station_longitude | -122.394203          \n",
      " end_station_id          | 90                   \n",
      " end_station_name        | Townsend St at 7t... \n",
      " end_station_latitude    | 37.771058            \n",
      " end_station_longitude   | -122.402717          \n",
      " bike_id                 | 633                  \n",
      " user_type               | Subscriber           \n",
      " member_birth_year       | 1978                 \n",
      " member_gender           | Male                 \n",
      " pyment                  | credit card          \n",
      " dist_meter              | 2807.37              \n",
      "-RECORD 12--------------------------------------\n",
      " start_time              | 21:02.5              \n",
      " end_time                | 31:27.0              \n",
      " start_station_id        | 15                   \n",
      " start_station_name      | San Francisco Fer... \n",
      " start_station_latitude  | 37.795392            \n",
      " start_station_longitude | -122.394203          \n",
      " end_station_id          | 81                   \n",
      " end_station_name        | Berry St at 4th St   \n",
      " end_station_latitude    | 37.77588             \n",
      " end_station_longitude   | -122.39317           \n",
      " bike_id                 | 2249                 \n",
      " user_type               | Subscriber           \n",
      " member_birth_year       | 1968                 \n",
      " member_gender           | Female               \n",
      " pyment                  | credit card          \n",
      " dist_meter              | 2171.54              \n",
      "-RECORD 13--------------------------------------\n",
      " start_time              | 31:46.2              \n",
      " end_time                | 54:34.7              \n",
      " start_station_id        | 15                   \n",
      " start_station_name      | San Francisco Fer... \n",
      " start_station_latitude  | 37.795392            \n",
      " start_station_longitude | -122.394203          \n",
      " end_station_id          | 6                    \n",
      " end_station_name        | The Embarcadero a... \n",
      " end_station_latitude    | 37.80477             \n",
      " end_station_longitude   | -122.403234          \n",
      " bike_id                 | 3385                 \n",
      " user_type               | Customer             \n",
      " member_birth_year       | 1994                 \n",
      " member_gender           | Male                 \n",
      " pyment                  | app wallet           \n",
      " dist_meter              | 1310.35              \n",
      "-RECORD 14--------------------------------------\n",
      " start_time              | 22:40.6              \n",
      " end_time                | 56:12.7              \n",
      " start_station_id        | 15                   \n",
      " start_station_name      | San Francisco Fer... \n",
      " start_station_latitude  | 37.795392            \n",
      " start_station_longitude | -122.394203          \n",
      " end_station_id          | 70                   \n",
      " end_station_name        | Central Ave at Fe... \n",
      " end_station_latitude    | 37.77331088          \n",
      " end_station_longitude   | -122.4442926         \n",
      " bike_id                 | 3227                 \n",
      " user_type               | Subscriber           \n",
      " member_birth_year       | 1971                 \n",
      " member_gender           | Female               \n",
      " pyment                  | credit card          \n",
      " dist_meter              | 5040.34              \n",
      "-RECORD 15--------------------------------------\n",
      " start_time              | 54:52.6              \n",
      " end_time                | 25:32.1              \n",
      " start_station_id        | 15                   \n",
      " start_station_name      | San Francisco Fer... \n",
      " start_station_latitude  | 37.795392            \n",
      " start_station_longitude | -122.394203          \n",
      " end_station_id          | 134                  \n",
      " end_station_name        | Valencia St at 24... \n",
      " end_station_latitude    | 37.7524278           \n",
      " end_station_longitude   | -122.4206278         \n",
      " bike_id                 | 667                  \n",
      " user_type               | Subscriber           \n",
      " member_birth_year       | 1987                 \n",
      " member_gender           | Male                 \n",
      " pyment                  | app wallet           \n",
      " dist_meter              | 5312.04              \n",
      "-RECORD 16--------------------------------------\n",
      " start_time              | 54:20.6              \n",
      " end_time                | 25:31.9              \n",
      " start_station_id        | 15                   \n",
      " start_station_name      | San Francisco Fer... \n",
      " start_station_latitude  | 37.795392            \n",
      " start_station_longitude | -122.394203          \n",
      " end_station_id          | 134                  \n",
      " end_station_name        | Valencia St at 24... \n",
      " end_station_latitude    | 37.7524278           \n",
      " end_station_longitude   | -122.4206278         \n",
      " bike_id                 | 2818                 \n",
      " user_type               | Subscriber           \n",
      " member_birth_year       | 1989                 \n",
      " member_gender           | Female               \n",
      " pyment                  | credit card          \n",
      " dist_meter              | 5312.04              \n",
      "-RECORD 17--------------------------------------\n",
      " start_time              | 33:12.3              \n",
      " end_time                | 50:55.4              \n",
      " start_station_id        | 15                   \n",
      " start_station_name      | San Francisco Fer... \n",
      " start_station_latitude  | 37.795392            \n",
      " start_station_longitude | -122.394203          \n",
      " end_station_id          | 27                   \n",
      " end_station_name        | Beale St at Harri... \n",
      " end_station_latitude    | 37.7880593           \n",
      " end_station_longitude   | -122.3918648         \n",
      " bike_id                 | 523                  \n",
      " user_type               | Subscriber           \n",
      " member_birth_year       | 1989                 \n",
      " member_gender           | Female               \n",
      " pyment                  | credit card          \n",
      " dist_meter              | 840.85               \n",
      "-RECORD 18--------------------------------------\n",
      " start_time              | 34:07.1              \n",
      " end_time                | 50:37.5              \n",
      " start_station_id        | 15                   \n",
      " start_station_name      | San Francisco Fer... \n",
      " start_station_latitude  | 37.795392            \n",
      " start_station_longitude | -122.394203          \n",
      " end_station_id          | 27                   \n",
      " end_station_name        | Beale St at Harri... \n",
      " end_station_latitude    | 37.7880593           \n",
      " end_station_longitude   | -122.3918648         \n",
      " bike_id                 | 2670                 \n",
      " user_type               | Subscriber           \n",
      " member_birth_year       | 1984                 \n",
      " member_gender           | Male                 \n",
      " pyment                  | credit card          \n",
      " dist_meter              | 840.85               \n",
      "-RECORD 19--------------------------------------\n",
      " start_time              | 04:33.2              \n",
      " end_time                | 08:39.5              \n",
      " start_station_id        | 15                   \n",
      " start_station_name      | San Francisco Fer... \n",
      " start_station_latitude  | 37.795392            \n",
      " start_station_longitude | -122.394203          \n",
      " end_station_id          | 24                   \n",
      " end_station_name        | Spear St at Folso... \n",
      " end_station_latitude    | 37.7896767           \n",
      " end_station_longitude   | -122.3904285         \n",
      " bike_id                 | 3641                 \n",
      " user_type               | Subscriber           \n",
      " member_birth_year       | 1966                 \n",
      " member_gender           | Male                 \n",
      " pyment                  | credit card          \n",
      " dist_meter              | 716.85               \n",
      "only showing top 20 rows\n",
      "\n"
     ]
    }
   ],
   "source": [
    "df.where((df.start_station_name == 'San Francisco Ferry Building (Harry Bridges Plaza)')\\\n",
    "         & ((df.member_gender == 'Male')|(df.member_gender =='Female'))).show(vertical=True) # cheking whether previous data is right !!"
   ]
  },
  {
   "cell_type": "code",
   "execution_count": 223,
   "id": "1f37bc7e",
   "metadata": {},
   "outputs": [],
   "source": [
    "m_fe = df.where((df.member_gender == 'Male')|(df.member_gender =='Female'))"
   ]
  },
  {
   "cell_type": "code",
   "execution_count": 226,
   "id": "a452c11f",
   "metadata": {},
   "outputs": [
    {
     "name": "stdout",
     "output_type": "stream",
     "text": [
      "+-------------+------+\n",
      "|member_gender| count|\n",
      "+-------------+------+\n",
      "|       Female| 98621|\n",
      "|         Male|348318|\n",
      "+-------------+------+\n",
      "\n"
     ]
    }
   ],
   "source": [
    "m_fe.groupBy('member_gender').count().show()"
   ]
  },
  {
   "cell_type": "code",
   "execution_count": 231,
   "id": "e574b2a4",
   "metadata": {},
   "outputs": [
    {
     "name": "stdout",
     "output_type": "stream",
     "text": [
      "+-------------+------------------------------------------------+-----+\n",
      "|member_gender|start_station_name                              |count|\n",
      "+-------------+------------------------------------------------+-----+\n",
      "|Female       |San Francisco Caltrain (Townsend St at 4th St)  |2035 |\n",
      "|Male         |MLK Jr Way at University Ave                    |225  |\n",
      "|Male         |Koshland Park                                   |1083 |\n",
      "|Male         |11th St at Natoma St                            |1487 |\n",
      "|Female       |16th St at Prosper St                           |230  |\n",
      "|Male         |Shattuck Ave at 55th Ave                        |337  |\n",
      "|Male         |Grand Ave at Santa Clara Ave                    |884  |\n",
      "|Female       |Downtown Berkeley BART                          |299  |\n",
      "|Female       |College Ave at Bryant Ave                       |19   |\n",
      "|Female       |San Fernando St at 4th St                       |158  |\n",
      "|Male         |Embarcadero BART Station (Beale St at Market St)|5530 |\n",
      "|Male         |9th St at San Fernando                          |152  |\n",
      "|Female       |10th Ave at E 15th St                           |43   |\n",
      "|Male         |Central Ave at Fell St                          |1869 |\n",
      "|Female       |11th St at Natoma St                            |342  |\n",
      "|Female       |Washington St at 8th St                         |188  |\n",
      "|Female       |Cahill Park                                     |32   |\n",
      "|Female       |Foothill Blvd at Fruitvale Ave                  |53   |\n",
      "|Female       |Powell St BART Station (Market St at 4th St)    |1768 |\n",
      "|Female       |5th St at Virginia St                           |169  |\n",
      "+-------------+------------------------------------------------+-----+\n",
      "only showing top 20 rows\n",
      "\n"
     ]
    }
   ],
   "source": [
    "m_fe.groupBy('member_gender', 'start_station_name').count().show(truncate=False)"
   ]
  },
  {
   "cell_type": "code",
   "execution_count": 233,
   "id": "e0f55c5a",
   "metadata": {},
   "outputs": [
    {
     "data": {
      "text/plain": [
       "2035"
      ]
     },
     "execution_count": 233,
     "metadata": {},
     "output_type": "execute_result"
    }
   ],
   "source": [
    "df.where((df.start_station_name == 'San Francisco Caltrain (Townsend St at 4th St)')\\\n",
    "         & (df.member_gender == 'Female')).count()"
   ]
  },
  {
   "cell_type": "code",
   "execution_count": 241,
   "id": "ed18bb8d",
   "metadata": {},
   "outputs": [
    {
     "name": "stdout",
     "output_type": "stream",
     "text": [
      "+-------------+-----------------------+-----+\n",
      "|member_gender|start_station_name     |count|\n",
      "+-------------+-----------------------+-----+\n",
      "|Female       |10th Ave at E 15th St  |43   |\n",
      "|Male         |10th Ave at E 15th St  |104  |\n",
      "|Female       |10th St at Fallon St   |424  |\n",
      "|Male         |10th St at Fallon St   |871  |\n",
      "|Male         |11th St at Bryant St   |1370 |\n",
      "|Female       |11th St at Bryant St   |164  |\n",
      "|Male         |11th St at Natoma St   |1487 |\n",
      "|Female       |11th St at Natoma St   |342  |\n",
      "|Male         |12th St at 4th Ave     |573  |\n",
      "|Female       |12th St at 4th Ave     |155  |\n",
      "|Male         |12th St at 6th Ave     |162  |\n",
      "|Female       |12th St at 6th Ave     |38   |\n",
      "|Female       |13th St at Franklin St |9    |\n",
      "|Male         |13th St at Franklin St |44   |\n",
      "|Female       |14th St at Filbert St  |44   |\n",
      "|Male         |14th St at Filbert St  |18   |\n",
      "|Female       |14th St at Mandela Pkwy|178  |\n",
      "|Male         |14th St at Mandela Pkwy|427  |\n",
      "|Female       |14th St at Mission St  |395  |\n",
      "|Male         |14th St at Mission St  |1556 |\n",
      "+-------------+-----------------------+-----+\n",
      "only showing top 20 rows\n",
      "\n"
     ]
    }
   ],
   "source": [
    "k = m_fe.groupBy('member_gender', 'start_station_name').count()\n",
    "\n",
    "k.sort('start_station_name').show(truncate=False)"
   ]
  }
 ],
 "metadata": {
  "kernelspec": {
   "display_name": "Python 3 (ipykernel)",
   "language": "python",
   "name": "python3"
  },
  "language_info": {
   "codemirror_mode": {
    "name": "ipython",
    "version": 3
   },
   "file_extension": ".py",
   "mimetype": "text/x-python",
   "name": "python",
   "nbconvert_exporter": "python",
   "pygments_lexer": "ipython3",
   "version": "3.9.13"
  }
 },
 "nbformat": 4,
 "nbformat_minor": 5
}
